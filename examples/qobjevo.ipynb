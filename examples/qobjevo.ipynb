{
 "cells": [
  {
   "cell_type": "markdown",
   "metadata": {},
   "source": [
    "# QobjEvo usage example\n",
    "Made by Eric Giguere  "
   ]
  },
  {
   "cell_type": "code",
   "execution_count": 1,
   "metadata": {},
   "outputs": [],
   "source": [
    "from qutip import *\n",
    "import time\n",
    "import numpy as np"
   ]
  },
  {
   "cell_type": "markdown",
   "metadata": {},
   "source": [
    "## Definition of time-dependant Qobj\n",
    "\n",
    "QobjEvo represent a Qobj that depend on time.\n",
    "It is used in main solvers (sesolve, mesolve, mcsolve, stochastic solvers).  \n",
    "\n",
    "QobjEvo are definied from nested list of Qobj:  \n",
    "[Qobj0, [Qobj1, coeff1], [Qobj2, coeff2]]  \n",
    "coeff can be one of: \n",
    "- function\n",
    "- string\n",
    "- np.array"
   ]
  },
  {
   "cell_type": "code",
   "execution_count": 2,
   "metadata": {},
   "outputs": [],
   "source": [
    "# Definition of base Qobj and coeff\n",
    "N = 4\n",
    "t = 1.0\n",
    "a = destroy(N)\n",
    "ad = create(N)\n",
    "n = create(N)*destroy(N)\n",
    "I = qeye(N)"
   ]
  },
  {
   "cell_type": "markdown",
   "metadata": {},
   "source": [
    "#### Contant QobjEvo"
   ]
  },
  {
   "cell_type": "code",
   "execution_count": 3,
   "metadata": {},
   "outputs": [
    {
     "data": {
      "text/latex": [
       "Quantum object: dims = [[4], [4]], shape = (4, 4), type = oper, isherm = False\\begin{equation*}\\left(\\begin{array}{*{11}c}0.0 & 1.0 & 0.0 & 0.0\\\\0.0 & 0.0 & 1.414 & 0.0\\\\0.0 & 0.0 & 0.0 & 1.732\\\\0.0 & 0.0 & 0.0 & 0.0\\\\\\end{array}\\right)\\end{equation*}"
      ],
      "text/plain": [
       "Quantum object: dims = [[4], [4]], shape = (4, 4), type = oper, isherm = False\n",
       "Qobj data =\n",
       "[[0.         1.         0.         0.        ]\n",
       " [0.         0.         1.41421356 0.        ]\n",
       " [0.         0.         0.         1.73205081]\n",
       " [0.         0.         0.         0.        ]]"
      ]
     },
     "execution_count": 3,
     "metadata": {},
     "output_type": "execute_result"
    }
   ],
   "source": [
    "cte_QobjEvo = QobjEvo(a)\n",
    "\n",
    "#The Qobj at t is obtain by obj(t)\n",
    "cte_QobjEvo(0.)"
   ]
  },
  {
   "cell_type": "code",
   "execution_count": 4,
   "metadata": {},
   "outputs": [
    {
     "data": {
      "text/latex": [
       "Quantum object: dims = [[4], [4]], shape = (4, 4), type = oper, isherm = False\\begin{equation*}\\left(\\begin{array}{*{11}c}0.0 & 1.0 & 0.0 & 0.0\\\\0.0 & 0.0 & 1.414 & 0.0\\\\0.0 & 0.0 & 0.0 & 1.732\\\\0.0 & 0.0 & 0.0 & 0.0\\\\\\end{array}\\right)\\end{equation*}"
      ],
      "text/plain": [
       "Quantum object: dims = [[4], [4]], shape = (4, 4), type = oper, isherm = False\n",
       "Qobj data =\n",
       "[[0.         1.         0.         0.        ]\n",
       " [0.         0.         1.41421356 0.        ]\n",
       " [0.         0.         0.         1.73205081]\n",
       " [0.         0.         0.         0.        ]]"
      ]
     },
     "execution_count": 4,
     "metadata": {},
     "output_type": "execute_result"
    }
   ],
   "source": [
    "cte_QobjEvo(1.)"
   ]
  },
  {
   "cell_type": "markdown",
   "metadata": {},
   "source": [
    "#### Coefficient as function\n",
    "Function based coefficient:\n",
    "\n",
    "def coeff(t, args={})\n"
   ]
  },
  {
   "cell_type": "code",
   "execution_count": 5,
   "metadata": {},
   "outputs": [],
   "source": [
    "def sin_t(t, args):\n",
    "    return np.sin(t)\n",
    "\n",
    "def cos_t(t, args):\n",
    "    return np.cos(t)"
   ]
  },
  {
   "cell_type": "code",
   "execution_count": 6,
   "metadata": {},
   "outputs": [
    {
     "data": {
      "text/latex": [
       "Quantum object: dims = [[4], [4]], shape = (4, 4), type = oper, isherm = True\\begin{equation*}\\left(\\begin{array}{*{11}c}0.0 & 1.0 & 0.0 & 0.0\\\\1.0 & 1.0 & 1.414 & 0.0\\\\0.0 & 1.414 & 2.0 & 1.732\\\\0.0 & 0.0 & 1.732 & 3.000\\\\\\end{array}\\right)\\end{equation*}"
      ],
      "text/plain": [
       "Quantum object: dims = [[4], [4]], shape = (4, 4), type = oper, isherm = True\n",
       "Qobj data =\n",
       "[[0.         1.         0.         0.        ]\n",
       " [1.         1.         1.41421356 0.        ]\n",
       " [0.         1.41421356 2.         1.73205081]\n",
       " [0.         0.         1.73205081 3.        ]]"
      ]
     },
     "execution_count": 6,
     "metadata": {},
     "output_type": "execute_result"
    }
   ],
   "source": [
    "# QobjEvo with function based coeff\n",
    "func_QobjEvo = QobjEvo([n,[a+ad,cos_t]])\n",
    "func_QobjEvo(0.)"
   ]
  },
  {
   "cell_type": "code",
   "execution_count": 7,
   "metadata": {},
   "outputs": [
    {
     "data": {
      "text/latex": [
       "Quantum object: dims = [[4], [4]], shape = (4, 4), type = oper, isherm = True\\begin{equation*}\\left(\\begin{array}{*{11}c}0.0 & -1.000 & 0.0 & 0.0\\\\-1.000 & 1.0 & -1.414 & 0.0\\\\0.0 & -1.414 & 2.0 & -1.732\\\\0.0 & 0.0 & -1.732 & 3.000\\\\\\end{array}\\right)\\end{equation*}"
      ],
      "text/plain": [
       "Quantum object: dims = [[4], [4]], shape = (4, 4), type = oper, isherm = True\n",
       "Qobj data =\n",
       "[[ 0.         -1.          0.          0.        ]\n",
       " [-1.          1.         -1.41421356  0.        ]\n",
       " [ 0.         -1.41421356  2.         -1.73205081]\n",
       " [ 0.          0.         -1.73205081  3.        ]]"
      ]
     },
     "execution_count": 7,
     "metadata": {},
     "output_type": "execute_result"
    }
   ],
   "source": [
    "func_QobjEvo(3.1416)"
   ]
  },
  {
   "cell_type": "markdown",
   "metadata": {},
   "source": [
    "#### Coeficient as string\n",
    "\n",
    "Valid 1 line of code returning a complex number:\n",
    "\n",
    "\"cos(t)\"\n",
    "\n",
    "availiable functions and object:\n",
    "\n",
    "    sin cos tan asin acos atan pi  \n",
    "    sinh cosh tanh asinh acosh atanh  \n",
    "    exp log log10 erf zerf sqrt  \n",
    "    real imag conj abs norm arg proj  \n",
    "    numpy as np  \n",
    "    scipy.special as spe\n"
   ]
  },
  {
   "cell_type": "code",
   "execution_count": 8,
   "metadata": {},
   "outputs": [
    {
     "data": {
      "text/latex": [
       "Quantum object: dims = [[4], [4]], shape = (4, 4), type = oper, isherm = True\\begin{equation*}\\left(\\begin{array}{*{11}c}0.0 & 1.0 & 0.0 & 0.0\\\\1.0 & 1.0 & 1.414 & 0.0\\\\0.0 & 1.414 & 2.0 & 1.732\\\\0.0 & 0.0 & 1.732 & 3.000\\\\\\end{array}\\right)\\end{equation*}"
      ],
      "text/plain": [
       "Quantum object: dims = [[4], [4]], shape = (4, 4), type = oper, isherm = True\n",
       "Qobj data =\n",
       "[[0.         1.         0.         0.        ]\n",
       " [1.         1.         1.41421356 0.        ]\n",
       " [0.         1.41421356 2.         1.73205081]\n",
       " [0.         0.         1.73205081 3.        ]]"
      ]
     },
     "execution_count": 8,
     "metadata": {},
     "output_type": "execute_result"
    }
   ],
   "source": [
    "# QobjEvo with function based coeff\n",
    "str_QobjEvo = QobjEvo([n,[a+ad,\"cos(t)\"]])\n",
    "str_QobjEvo(0.)"
   ]
  },
  {
   "cell_type": "code",
   "execution_count": 9,
   "metadata": {},
   "outputs": [
    {
     "data": {
      "text/latex": [
       "Quantum object: dims = [[4], [4]], shape = (4, 4), type = oper, isherm = True\\begin{equation*}\\left(\\begin{array}{*{11}c}0.0 & -1.000 & 0.0 & 0.0\\\\-1.000 & 1.0 & -1.414 & 0.0\\\\0.0 & -1.414 & 2.0 & -1.732\\\\0.0 & 0.0 & -1.732 & 3.000\\\\\\end{array}\\right)\\end{equation*}"
      ],
      "text/plain": [
       "Quantum object: dims = [[4], [4]], shape = (4, 4), type = oper, isherm = True\n",
       "Qobj data =\n",
       "[[ 0.         -1.          0.          0.        ]\n",
       " [-1.          1.         -1.41421356  0.        ]\n",
       " [ 0.         -1.41421356  2.         -1.73205081]\n",
       " [ 0.          0.         -1.73205081  3.        ]]"
      ]
     },
     "execution_count": 9,
     "metadata": {},
     "output_type": "execute_result"
    }
   ],
   "source": [
    "str_QobjEvo(3.1416)"
   ]
  },
  {
   "cell_type": "markdown",
   "metadata": {},
   "source": [
    "#### Coefficient as array\n",
    "\n",
    "Array of values at t's.\n",
    "\n",
    "The t's are passed as a tlist. A cubic spline interpolation is used between provided values."
   ]
  },
  {
   "cell_type": "code",
   "execution_count": 10,
   "metadata": {},
   "outputs": [
    {
     "data": {
      "text/latex": [
       "Quantum object: dims = [[4], [4]], shape = (4, 4), type = oper, isherm = True\\begin{equation*}\\left(\\begin{array}{*{11}c}0.0 & 1.0 & 0.0 & 0.0\\\\1.0 & 1.0 & 1.414 & 0.0\\\\0.0 & 1.414 & 2.0 & 1.732\\\\0.0 & 0.0 & 1.732 & 3.000\\\\\\end{array}\\right)\\end{equation*}"
      ],
      "text/plain": [
       "Quantum object: dims = [[4], [4]], shape = (4, 4), type = oper, isherm = True\n",
       "Qobj data =\n",
       "[[0.         1.         0.         0.        ]\n",
       " [1.         1.         1.41421356 0.        ]\n",
       " [0.         1.41421356 2.         1.73205081]\n",
       " [0.         0.         1.73205081 3.        ]]"
      ]
     },
     "execution_count": 10,
     "metadata": {},
     "output_type": "execute_result"
    }
   ],
   "source": [
    "tlist = np.linspace(0,10,101)\n",
    "array_QobjEvo = QobjEvo([n, [a+ad,np.cos(tlist)]],tlist=tlist)\n",
    "array_QobjEvo(0.)"
   ]
  },
  {
   "cell_type": "code",
   "execution_count": 11,
   "metadata": {},
   "outputs": [
    {
     "data": {
      "text/latex": [
       "Quantum object: dims = [[4], [4]], shape = (4, 4), type = oper, isherm = True\\begin{equation*}\\left(\\begin{array}{*{11}c}0.0 & -1.000 & 0.0 & 0.0\\\\-1.000 & 1.0 & -1.414 & 0.0\\\\0.0 & -1.414 & 2.0 & -1.732\\\\0.0 & 0.0 & -1.732 & 3.000\\\\\\end{array}\\right)\\end{equation*}"
      ],
      "text/plain": [
       "Quantum object: dims = [[4], [4]], shape = (4, 4), type = oper, isherm = True\n",
       "Qobj data =\n",
       "[[ 0.         -0.99999975  0.          0.        ]\n",
       " [-0.99999975  1.         -1.41421321  0.        ]\n",
       " [ 0.         -1.41421321  2.         -1.73205038]\n",
       " [ 0.          0.         -1.73205038  3.        ]]"
      ]
     },
     "execution_count": 11,
     "metadata": {},
     "output_type": "execute_result"
    }
   ],
   "source": [
    "array_QobjEvo(3.1416)"
   ]
  },
  {
   "cell_type": "markdown",
   "metadata": {},
   "source": [
    "##### time step do not have to be equality distributed"
   ]
  },
  {
   "cell_type": "code",
   "execution_count": 12,
   "metadata": {},
   "outputs": [
    {
     "data": {
      "text/latex": [
       "Quantum object: dims = [[4], [4]], shape = (4, 4), type = oper, isherm = True\\begin{equation*}\\left(\\begin{array}{*{11}c}0.0 & 1.000 & 0.0 & 0.0\\\\1.000 & 1.0 & 1.414 & 0.0\\\\0.0 & 1.414 & 2.0 & 1.732\\\\0.0 & 0.0 & 1.732 & 3.000\\\\\\end{array}\\right)\\end{equation*}"
      ],
      "text/plain": [
       "Quantum object: dims = [[4], [4]], shape = (4, 4), type = oper, isherm = True\n",
       "Qobj data =\n",
       "[[0.         1.         0.         0.        ]\n",
       " [1.         1.         1.41421356 0.        ]\n",
       " [0.         1.41421356 2.         1.73205081]\n",
       " [0.         0.         1.73205081 3.        ]]"
      ]
     },
     "execution_count": 12,
     "metadata": {},
     "output_type": "execute_result"
    }
   ],
   "source": [
    "tlistlog = np.logspace(-3,1,1001)\n",
    "Log_array_QobjEvo = QobjEvo([n, [a+ad,np.cos(tlistlog)]],tlist=tlistlog)\n",
    "Log_array_QobjEvo(0.)"
   ]
  },
  {
   "cell_type": "code",
   "execution_count": 13,
   "metadata": {},
   "outputs": [
    {
     "data": {
      "text/latex": [
       "Quantum object: dims = [[4], [4]], shape = (4, 4), type = oper, isherm = True\\begin{equation*}\\left(\\begin{array}{*{11}c}0.0 & -1.000 & 0.0 & 0.0\\\\-1.000 & 1.0 & -1.414 & 0.0\\\\0.0 & -1.414 & 2.0 & -1.732\\\\0.0 & 0.0 & -1.732 & 3.000\\\\\\end{array}\\right)\\end{equation*}"
      ],
      "text/plain": [
       "Quantum object: dims = [[4], [4]], shape = (4, 4), type = oper, isherm = True\n",
       "Qobj data =\n",
       "[[ 0.         -1.          0.          0.        ]\n",
       " [-1.          1.         -1.41421356  0.        ]\n",
       " [ 0.         -1.41421356  2.         -1.73205081]\n",
       " [ 0.          0.         -1.73205081  3.        ]]"
      ]
     },
     "execution_count": 13,
     "metadata": {},
     "output_type": "execute_result"
    }
   ],
   "source": [
    "Log_array_QobjEvo(3.1416)"
   ]
  },
  {
   "cell_type": "markdown",
   "metadata": {
    "collapsed": true
   },
   "source": [
    "## Arguments\n",
    "\n",
    "Data can be passed to the coeff function or string in a \"args\" dictionary.  \n",
    "\n",
    "    args = {\"name1\":value, \"name2\":value}  \n",
    "\n",
    "names must be valid variable names not beginning with \"_\"\n",
    "\n",
    "value can be of any type, but for string coefficient, scalar and np.array are prefered."
   ]
  },
  {
   "cell_type": "code",
   "execution_count": 14,
   "metadata": {},
   "outputs": [
    {
     "data": {
      "text/latex": [
       "Quantum object: dims = [[4], [4]], shape = (4, 4), type = oper, isherm = True\\begin{equation*}\\left(\\begin{array}{*{11}c}1.0 & 0.0 & 0.0 & 0.0\\\\0.0 & 1.0 & 0.0 & 0.0\\\\0.0 & 0.0 & 1.0 & 0.0\\\\0.0 & 0.0 & 0.0 & 1.0\\\\\\end{array}\\right)\\end{equation*}"
      ],
      "text/plain": [
       "Quantum object: dims = [[4], [4]], shape = (4, 4), type = oper, isherm = True\n",
       "Qobj data =\n",
       "[[1. 0. 0. 0.]\n",
       " [0. 1. 0. 0.]\n",
       " [0. 0. 1. 0.]\n",
       " [0. 0. 0. 1.]]"
      ]
     },
     "execution_count": 14,
     "metadata": {},
     "output_type": "execute_result"
    }
   ],
   "source": [
    "def coeff_with_args(t, args):\n",
    "    return t + args['w']\n",
    "\n",
    "td_args = QobjEvo([I, coeff_with_args], args={'w':1.}) \n",
    "td_args(0)"
   ]
  },
  {
   "cell_type": "code",
   "execution_count": 15,
   "metadata": {},
   "outputs": [
    {
     "data": {
      "text/latex": [
       "Quantum object: dims = [[4], [4]], shape = (4, 4), type = oper, isherm = True\\begin{equation*}\\left(\\begin{array}{*{11}c}2.0 & 0.0 & 0.0 & 0.0\\\\0.0 & 2.0 & 0.0 & 0.0\\\\0.0 & 0.0 & 2.0 & 0.0\\\\0.0 & 0.0 & 0.0 & 2.0\\\\\\end{array}\\right)\\end{equation*}"
      ],
      "text/plain": [
       "Quantum object: dims = [[4], [4]], shape = (4, 4), type = oper, isherm = True\n",
       "Qobj data =\n",
       "[[2. 0. 0. 0.]\n",
       " [0. 2. 0. 0.]\n",
       " [0. 0. 2. 0.]\n",
       " [0. 0. 0. 2.]]"
      ]
     },
     "execution_count": 15,
     "metadata": {},
     "output_type": "execute_result"
    }
   ],
   "source": [
    "td_args(1)"
   ]
  },
  {
   "cell_type": "code",
   "execution_count": 16,
   "metadata": {},
   "outputs": [
    {
     "data": {
      "text/latex": [
       "Quantum object: dims = [[4], [4]], shape = (4, 4), type = oper, isherm = True\\begin{equation*}\\left(\\begin{array}{*{11}c}10.0 & 0.0 & 0.0 & 0.0\\\\0.0 & 10.0 & 0.0 & 0.0\\\\0.0 & 0.0 & 10.0 & 0.0\\\\0.0 & 0.0 & 0.0 & 10.0\\\\\\end{array}\\right)\\end{equation*}"
      ],
      "text/plain": [
       "Quantum object: dims = [[4], [4]], shape = (4, 4), type = oper, isherm = True\n",
       "Qobj data =\n",
       "[[10.  0.  0.  0.]\n",
       " [ 0. 10.  0.  0.]\n",
       " [ 0.  0. 10.  0.]\n",
       " [ 0.  0.  0. 10.]]"
      ]
     },
     "execution_count": 16,
     "metadata": {},
     "output_type": "execute_result"
    }
   ],
   "source": [
    "td_args(0, args={\"w\":10})"
   ]
  },
  {
   "cell_type": "code",
   "execution_count": 17,
   "metadata": {},
   "outputs": [
    {
     "data": {
      "text/latex": [
       "Quantum object: dims = [[4], [4]], shape = (4, 4), type = oper, isherm = True\\begin{equation*}\\left(\\begin{array}{*{11}c}1.0 & 0.0 & 0.0 & 0.0\\\\0.0 & 1.0 & 0.0 & 0.0\\\\0.0 & 0.0 & 1.0 & 0.0\\\\0.0 & 0.0 & 0.0 & 1.0\\\\\\end{array}\\right)\\end{equation*}"
      ],
      "text/plain": [
       "Quantum object: dims = [[4], [4]], shape = (4, 4), type = oper, isherm = True\n",
       "Qobj data =\n",
       "[[1. 0. 0. 0.]\n",
       " [0. 1. 0. 0.]\n",
       " [0. 0. 1. 0.]\n",
       " [0. 0. 0. 1.]]"
      ]
     },
     "execution_count": 17,
     "metadata": {},
     "output_type": "execute_result"
    }
   ],
   "source": [
    "td_args_str = QobjEvo([I, \"t+w\"], args={'w':1.}) \n",
    "td_args_str(0)"
   ]
  },
  {
   "cell_type": "code",
   "execution_count": 18,
   "metadata": {},
   "outputs": [
    {
     "data": {
      "text/latex": [
       "Quantum object: dims = [[4], [4]], shape = (4, 4), type = oper, isherm = True\\begin{equation*}\\left(\\begin{array}{*{11}c}2.0 & 0.0 & 0.0 & 0.0\\\\0.0 & 2.0 & 0.0 & 0.0\\\\0.0 & 0.0 & 2.0 & 0.0\\\\0.0 & 0.0 & 0.0 & 2.0\\\\\\end{array}\\right)\\end{equation*}"
      ],
      "text/plain": [
       "Quantum object: dims = [[4], [4]], shape = (4, 4), type = oper, isherm = True\n",
       "Qobj data =\n",
       "[[2. 0. 0. 0.]\n",
       " [0. 2. 0. 0.]\n",
       " [0. 0. 2. 0.]\n",
       " [0. 0. 0. 2.]]"
      ]
     },
     "execution_count": 18,
     "metadata": {},
     "output_type": "execute_result"
    }
   ],
   "source": [
    "td_args_str(1)"
   ]
  },
  {
   "cell_type": "code",
   "execution_count": 19,
   "metadata": {},
   "outputs": [
    {
     "data": {
      "text/latex": [
       "Quantum object: dims = [[4], [4]], shape = (4, 4), type = oper, isherm = True\\begin{equation*}\\left(\\begin{array}{*{11}c}10.0 & 0.0 & 0.0 & 0.0\\\\0.0 & 10.0 & 0.0 & 0.0\\\\0.0 & 0.0 & 10.0 & 0.0\\\\0.0 & 0.0 & 0.0 & 10.0\\\\\\end{array}\\right)\\end{equation*}"
      ],
      "text/plain": [
       "Quantum object: dims = [[4], [4]], shape = (4, 4), type = oper, isherm = True\n",
       "Qobj data =\n",
       "[[10.  0.  0.  0.]\n",
       " [ 0. 10.  0.  0.]\n",
       " [ 0.  0. 10.  0.]\n",
       " [ 0.  0.  0. 10.]]"
      ]
     },
     "execution_count": 19,
     "metadata": {},
     "output_type": "execute_result"
    }
   ],
   "source": [
    "td_args_str(0, args={\"w\":10})"
   ]
  },
  {
   "cell_type": "markdown",
   "metadata": {},
   "source": [
    "#### Advanced example"
   ]
  },
  {
   "cell_type": "code",
   "execution_count": 20,
   "metadata": {},
   "outputs": [],
   "source": [
    "# Example of object as value\n",
    "td_args_str = QobjEvo([I, \"w(t)\"], args={'w':np.cos}) \n",
    "td_args_str.compile()"
   ]
  },
  {
   "cell_type": "code",
   "execution_count": 21,
   "metadata": {},
   "outputs": [
    {
     "data": {
      "text/latex": [
       "Quantum object: dims = [[4], [4]], shape = (4, 4), type = oper, isherm = True\\begin{equation*}\\left(\\begin{array}{*{11}c}1.0 & 0.0 & 0.0 & 0.0\\\\0.0 & 1.0 & 0.0 & 0.0\\\\0.0 & 0.0 & 1.0 & 0.0\\\\0.0 & 0.0 & 0.0 & 1.0\\\\\\end{array}\\right)\\end{equation*}"
      ],
      "text/plain": [
       "Quantum object: dims = [[4], [4]], shape = (4, 4), type = oper, isherm = True\n",
       "Qobj data =\n",
       "[[1. 0. 0. 0.]\n",
       " [0. 1. 0. 0.]\n",
       " [0. 0. 1. 0.]\n",
       " [0. 0. 0. 1.]]"
      ]
     },
     "execution_count": 21,
     "metadata": {},
     "output_type": "execute_result"
    }
   ],
   "source": [
    "td_args_str(0.)"
   ]
  },
  {
   "cell_type": "code",
   "execution_count": 22,
   "metadata": {},
   "outputs": [
    {
     "data": {
      "text/latex": [
       "Quantum object: dims = [[4], [4]], shape = (4, 4), type = oper, isherm = True\\begin{equation*}\\left(\\begin{array}{*{11}c}-1.000 & 0.0 & 0.0 & 0.0\\\\0.0 & -1.000 & 0.0 & 0.0\\\\0.0 & 0.0 & -1.000 & 0.0\\\\0.0 & 0.0 & 0.0 & -1.000\\\\\\end{array}\\right)\\end{equation*}"
      ],
      "text/plain": [
       "Quantum object: dims = [[4], [4]], shape = (4, 4), type = oper, isherm = True\n",
       "Qobj data =\n",
       "[[-1.  0.  0.  0.]\n",
       " [ 0. -1.  0.  0.]\n",
       " [ 0.  0. -1.  0.]\n",
       " [ 0.  0.  0. -1.]]"
      ]
     },
     "execution_count": 22,
     "metadata": {},
     "output_type": "execute_result"
    }
   ],
   "source": [
    "td_args_str(3.1416)"
   ]
  },
  {
   "cell_type": "markdown",
   "metadata": {},
   "source": [
    "### State in argument\n",
    "\n",
    "The state of the solver can be accessed in arguments.\n",
    "\n",
    "- \"name=vec\":Qobj0            : args[name] = state as 1d np.array\n",
    "- \"name=mat\":Qobj0            : args[name] = state as 2d np.array\n",
    "- \"name=Qobj\":Qobj0           : args[name] = state as Qobj\n",
    "- \"name=expect\":Qobj/QobjEvo  : args[name] = expect(Qobj/QobjEvo(t), state)\n",
    "- \"name=collapse\"=[]          : args[name] = list of collapse. mcsolve only.\n",
    "\n",
    "The initial value is taken from Qobj0 or 0 for expect.  \n",
    "Later call will use the last available value.  \n",
    "Main solvers ([se/me/mc]solve) update at each call.\n"
   ]
  },
  {
   "cell_type": "code",
   "execution_count": 23,
   "metadata": {},
   "outputs": [
    {
     "name": "stdout",
     "output_type": "stream",
     "text": [
      "[0.+0.j 0.+0.j 0.+0.j 1.+0.j]\n",
      "[[0.+0.j]\n",
      " [0.+0.j]\n",
      " [0.+0.j]\n",
      " [1.+0.j]]\n",
      "Quantum object: dims = [[4], [1]], shape = (4, 1), type = ket\n",
      "Qobj data =\n",
      "[[0.]\n",
      " [0.]\n",
      " [0.]\n",
      " [1.]]\n",
      "0.0\n"
     ]
    },
    {
     "data": {
      "text/latex": [
       "Quantum object: dims = [[4], [4]], shape = (4, 4), type = oper, isherm = True\\begin{equation*}\\left(\\begin{array}{*{11}c}0.0 & 0.0 & 0.0 & 0.0\\\\0.0 & 0.0 & 0.0 & 0.0\\\\0.0 & 0.0 & 0.0 & 0.0\\\\0.0 & 0.0 & 0.0 & 0.0\\\\\\end{array}\\right)\\end{equation*}"
      ],
      "text/plain": [
       "Quantum object: dims = [[4], [4]], shape = (4, 4), type = oper, isherm = True\n",
       "Qobj data =\n",
       "[[0. 0. 0. 0.]\n",
       " [0. 0. 0. 0.]\n",
       " [0. 0. 0. 0.]\n",
       " [0. 0. 0. 0.]]"
      ]
     },
     "execution_count": 23,
     "metadata": {},
     "output_type": "execute_result"
    }
   ],
   "source": [
    "args={\"state_as_vec\" + \"=vec\":basis(4,3),\n",
    "      \"state_as_mat\" + \"=mat\":basis(4,3),\n",
    "      \"state_as_Qobj\" + \"=Qobj\":basis(4,3),\n",
    "      \"e1\" + \"=expect\":n}\n",
    "\n",
    "def print_args(t, args):\n",
    "    for key in args:\n",
    "        print(args[key])\n",
    "    return t\n",
    "\n",
    "td_args = QobjEvo([I, print_args], args=args) \n",
    "td_args(0)"
   ]
  },
  {
   "cell_type": "code",
   "execution_count": 24,
   "metadata": {},
   "outputs": [
    {
     "name": "stdout",
     "output_type": "stream",
     "text": [
      "[0.+0.j 0.+0.j 1.+0.j 0.+0.j]\n",
      "[[0.+0.j]\n",
      " [0.+0.j]\n",
      " [1.+0.j]\n",
      " [0.+0.j]]\n",
      "Quantum object: dims = [[4], [1]], shape = (4, 1), type = ket\n",
      "Qobj data =\n",
      "[[0.]\n",
      " [0.]\n",
      " [1.]\n",
      " [0.]]\n",
      "(2.0000000000000004+0j)\n"
     ]
    },
    {
     "data": {
      "text/latex": [
       "Quantum object: dims = [[4], [4]], shape = (4, 4), type = oper, isherm = True\\begin{equation*}\\left(\\begin{array}{*{11}c}0.0 & 0.0 & 0.0 & 0.0\\\\0.0 & 0.0 & 0.0 & 0.0\\\\0.0 & 0.0 & 0.0 & 0.0\\\\0.0 & 0.0 & 0.0 & 0.0\\\\\\end{array}\\right)\\end{equation*}"
      ],
      "text/plain": [
       "Quantum object: dims = [[4], [4]], shape = (4, 4), type = oper, isherm = True\n",
       "Qobj data =\n",
       "[[0. 0. 0. 0.]\n",
       " [0. 0. 0. 0.]\n",
       " [0. 0. 0. 0.]\n",
       " [0. 0. 0. 0.]]"
      ]
     },
     "execution_count": 24,
     "metadata": {},
     "output_type": "execute_result"
    }
   ],
   "source": [
    "td_args(0, state=basis(4,2))"
   ]
  },
  {
   "cell_type": "markdown",
   "metadata": {},
   "source": [
    "#### coefficient with memory\n",
    "\n",
    "Function coefficient can be class method, allowing for internal states."
   ]
  },
  {
   "cell_type": "code",
   "execution_count": 25,
   "metadata": {},
   "outputs": [
    {
     "data": {
      "text/plain": [
       "[(0.0, (2.0000000000000004+0j)),\n",
       " (0.0, (2.0000000000000004+0j)),\n",
       " (4.712160915387242e-10, (2.0000000000000004+0j)),\n",
       " (0.0001337474054398383, (2.0000000000000004+0j)),\n",
       " (6.687370281960761e-05, (2.0000000000000004+0j)),\n",
       " (6.687370281960761e-05, (2.0000000000000004+0j)),\n",
       " (0.00013374740563921523, (2.000000000000001+0j)),\n",
       " (0.00013374740563921523, (2.000000000000001+0j)),\n",
       " (0.0008024844338352913, (2.0000000000001057+0j)),\n",
       " (0.0008024844338352913, (2.000000000000706+0j)),\n",
       " (0.0003211302409302149, (2.0000000000000084+0j)),\n",
       " (0.0003211302409302149, (2.0000000000000067+1.88079096131566e-37j)),\n",
       " (0.0005085130762212145, (2.0000000000000684+0j)),\n",
       " (0.0023823414291312107, (2.0000000000904707+8.470329472543003e-22j)),\n",
       " (0.016171623770340246, (2.0000002117361637+0j)),\n",
       " (0.016171623770340246, (1.9999998710986275+0j))]"
      ]
     },
     "execution_count": 25,
     "metadata": {},
     "output_type": "execute_result"
    }
   ],
   "source": [
    "class coeff:\n",
    "    def __init__(self):\n",
    "        self.ts = []\n",
    "        \n",
    "    def call(self, t, args):\n",
    "        self.ts.append((t,args[\"e1\"]))\n",
    "        return np.sin(t)\n",
    "\n",
    "my_coeff = coeff()\n",
    "\n",
    "H = QobjEvo([I+(a+ad), my_coeff.call], args={\"e1=expect\":n}) \n",
    "sesolve(H, basis(4,2), [0, 0.01])\n",
    "my_coeff.ts"
   ]
  },
  {
   "cell_type": "code",
   "execution_count": 26,
   "metadata": {},
   "outputs": [
    {
     "name": "stdout",
     "output_type": "stream",
     "text": [
      "[0.+0.j 0.+0.j 1.+0.j 0.+0.j]\n",
      "[[0.+0.j]\n",
      " [0.+0.j]\n",
      " [1.+0.j]\n",
      " [0.+0.j]]\n",
      "Quantum object: dims = [[4], [1]], shape = (4, 1), type = ket\n",
      "Qobj data =\n",
      "[[0.]\n",
      " [0.]\n",
      " [1.]\n",
      " [0.]]\n",
      "(2.0000000000000004+0j)\n"
     ]
    },
    {
     "data": {
      "text/latex": [
       "Quantum object: dims = [[4], [4]], shape = (4, 4), type = oper, isherm = True\\begin{equation*}\\left(\\begin{array}{*{11}c}1.0 & 0.0 & 0.0 & 0.0\\\\0.0 & 1.0 & 0.0 & 0.0\\\\0.0 & 0.0 & 1.0 & 0.0\\\\0.0 & 0.0 & 0.0 & 1.0\\\\\\end{array}\\right)\\end{equation*}"
      ],
      "text/plain": [
       "Quantum object: dims = [[4], [4]], shape = (4, 4), type = oper, isherm = True\n",
       "Qobj data =\n",
       "[[1. 0. 0. 0.]\n",
       " [0. 1. 0. 0.]\n",
       " [0. 0. 1. 0.]\n",
       " [0. 0. 0. 1.]]"
      ]
     },
     "execution_count": 26,
     "metadata": {},
     "output_type": "execute_result"
    }
   ],
   "source": [
    "td_args(1, state=basis(4,2))"
   ]
  },
  {
   "cell_type": "markdown",
   "metadata": {},
   "source": [
    "Some solver may call the system at previous time step.  \n",
    "    t=1. then t=0.5 then t=1.5 etc."
   ]
  },
  {
   "cell_type": "markdown",
   "metadata": {},
   "source": [
    "## Mathematic\n",
    "QobjEvo support basis mathematic operation:\n",
    "\n",
    "- addition (QobjEvo, Qobj)\n",
    "- substraction (QobjEvo, Qobj)\n",
    "- product (QobjEvo, Qobj, scalar)\n",
    "- division (scalar)\n",
    "\n",
    "and unitary transformation:\n",
    "\n",
    "- conj\n",
    "- dag \n",
    "- trans "
   ]
  },
  {
   "cell_type": "code",
   "execution_count": 27,
   "metadata": {},
   "outputs": [
    {
     "data": {
      "text/latex": [
       "Quantum object: dims = [[4], [4]], shape = (4, 4), type = oper, isherm = True\\begin{equation*}\\left(\\begin{array}{*{11}c}0.0 & 2.0 & 0.0 & 0.0\\\\2.0 & 2.0 & 2.828 & 0.0\\\\0.0 & 2.828 & 4.0 & 3.464\\\\0.0 & 0.0 & 3.464 & 6.000\\\\\\end{array}\\right)\\end{equation*}"
      ],
      "text/plain": [
       "Quantum object: dims = [[4], [4]], shape = (4, 4), type = oper, isherm = True\n",
       "Qobj data =\n",
       "[[0.         2.         0.         0.        ]\n",
       " [2.         2.         2.82842712 0.        ]\n",
       " [0.         2.82842712 4.         3.46410162]\n",
       " [0.         0.         3.46410162 6.        ]]"
      ]
     },
     "execution_count": 27,
     "metadata": {},
     "output_type": "execute_result"
    }
   ],
   "source": [
    "(array_QobjEvo * 2)(0)"
   ]
  },
  {
   "cell_type": "code",
   "execution_count": 28,
   "metadata": {},
   "outputs": [
    {
     "data": {
      "text/latex": [
       "Quantum object: dims = [[4], [4]], shape = (4, 4), type = oper, isherm = False\\begin{equation*}\\left(\\begin{array}{*{11}c}1.0 & 2.0 & 0.0 & 0.0\\\\1.0 & 2.0 & 2.828 & 0.0\\\\0.0 & 1.414 & 3.0 & 3.464\\\\0.0 & 0.0 & 1.732 & 4.000\\\\\\end{array}\\right)\\end{equation*}"
      ],
      "text/plain": [
       "Quantum object: dims = [[4], [4]], shape = (4, 4), type = oper, isherm = False\n",
       "Qobj data =\n",
       "[[1.         2.         0.         0.        ]\n",
       " [1.         2.         2.82842712 0.        ]\n",
       " [0.         1.41421356 3.         3.46410162]\n",
       " [0.         0.         1.73205081 4.        ]]"
      ]
     },
     "execution_count": 28,
     "metadata": {},
     "output_type": "execute_result"
    }
   ],
   "source": [
    "(array_QobjEvo + 1 + a)(0)"
   ]
  },
  {
   "cell_type": "markdown",
   "metadata": {},
   "source": [
    "## Liouvillian and lindblad dissipator, to use in solver\n",
    "\n",
    "Functions in qutip.superoperator can be used for QobjEvo."
   ]
  },
  {
   "cell_type": "code",
   "execution_count": 29,
   "metadata": {},
   "outputs": [
    {
     "data": {
      "text/latex": [
       "Quantum object: dims = [[[4], [4]], [[4], [4]]], shape = (16, 16), type = super, isherm = False\\begin{equation*}\\left(\\begin{array}{*{11}c}0.0 & -1.0j & 0.0 & 0.0 & 1.0j & \\cdots & 0.0 & 0.0 & 0.0 & 0.0 & 0.0\\\\-1.0j & (-0.500-1.0j) & -1.414j & 0.0 & 0.0 & \\cdots & 0.0 & 0.0 & 0.0 & 0.0 & 0.0\\\\0.0 & -1.414j & (-1.0-2.0j) & -1.732j & 0.0 & \\cdots & 0.0 & 0.0 & 0.0 & 0.0 & 0.0\\\\0.0 & 0.0 & -1.732j & (-1.500-3.000j) & 0.0 & \\cdots & 0.0 & 0.0 & 0.0 & 0.0 & 0.0\\\\1.0j & 0.0 & 0.0 & 0.0 & (-0.500+1.0j) & \\cdots & 0.0 & 0.0 & 0.0 & 0.0 & 0.0\\\\\\vdots & \\vdots & \\vdots & \\vdots & \\vdots & \\ddots & \\vdots & \\vdots & \\vdots & \\vdots & \\vdots\\\\0.0 & 0.0 & 0.0 & 0.0 & 0.0 & \\cdots & (-2.500-1.000j) & 0.0 & 0.0 & 0.0 & 1.732j\\\\0.0 & 0.0 & 0.0 & 0.0 & 0.0 & \\cdots & 0.0 & (-1.500+3.000j) & -1.0j & 0.0 & 0.0\\\\0.0 & 0.0 & 0.0 & 0.0 & 0.0 & \\cdots & 0.0 & -1.0j & (-2.000+2.000j) & -1.414j & 0.0\\\\0.0 & 0.0 & 0.0 & 0.0 & 0.0 & \\cdots & 0.0 & 0.0 & -1.414j & (-2.500+1.000j) & -1.732j\\\\0.0 & 0.0 & 0.0 & 0.0 & 0.0 & \\cdots & 1.732j & 0.0 & 0.0 & -1.732j & -3.000\\\\\\end{array}\\right)\\end{equation*}"
      ],
      "text/plain": [
       "Quantum object: dims = [[[4], [4]], [[4], [4]]], shape = (16, 16), type = super, isherm = False\n",
       "Qobj data =\n",
       "[[ 0.        +0.j          0.        -1.j          0.        +0.j\n",
       "   0.        +0.j          0.        +1.j          1.        +0.j\n",
       "   0.        +0.j          0.        +0.j          0.        +0.j\n",
       "   0.        +0.j          0.        +0.j          0.        +0.j\n",
       "   0.        +0.j          0.        +0.j          0.        +0.j\n",
       "   0.        +0.j        ]\n",
       " [ 0.        -1.j         -0.5       -1.j          0.        -1.41421356j\n",
       "   0.        +0.j          0.        +0.j          0.        +1.j\n",
       "   1.41421356+0.j          0.        +0.j          0.        +0.j\n",
       "   0.        +0.j          0.        +0.j          0.        +0.j\n",
       "   0.        +0.j          0.        +0.j          0.        +0.j\n",
       "   0.        +0.j        ]\n",
       " [ 0.        +0.j          0.        -1.41421356j -1.        -2.j\n",
       "   0.        -1.73205081j  0.        +0.j          0.        +0.j\n",
       "   0.        +1.j          1.73205081+0.j          0.        +0.j\n",
       "   0.        +0.j          0.        +0.j          0.        +0.j\n",
       "   0.        +0.j          0.        +0.j          0.        +0.j\n",
       "   0.        +0.j        ]\n",
       " [ 0.        +0.j          0.        +0.j          0.        -1.73205081j\n",
       "  -1.5       -3.j          0.        +0.j          0.        +0.j\n",
       "   0.        +0.j          0.        +1.j          0.        +0.j\n",
       "   0.        +0.j          0.        +0.j          0.        +0.j\n",
       "   0.        +0.j          0.        +0.j          0.        +0.j\n",
       "   0.        +0.j        ]\n",
       " [ 0.        +1.j          0.        +0.j          0.        +0.j\n",
       "   0.        +0.j         -0.5       +1.j          0.        -1.j\n",
       "   0.        +0.j          0.        +0.j          0.        +1.41421356j\n",
       "   1.41421356+0.j          0.        +0.j          0.        +0.j\n",
       "   0.        +0.j          0.        +0.j          0.        +0.j\n",
       "   0.        +0.j        ]\n",
       " [ 0.        +0.j          0.        +1.j          0.        +0.j\n",
       "   0.        +0.j          0.        -1.j         -1.        +0.j\n",
       "   0.        -1.41421356j  0.        +0.j          0.        +0.j\n",
       "   0.        +1.41421356j  2.        +0.j          0.        +0.j\n",
       "   0.        +0.j          0.        +0.j          0.        +0.j\n",
       "   0.        +0.j        ]\n",
       " [ 0.        +0.j          0.        +0.j          0.        +1.j\n",
       "   0.        +0.j          0.        +0.j          0.        -1.41421356j\n",
       "  -1.5       -1.j          0.        -1.73205081j  0.        +0.j\n",
       "   0.        +0.j          0.        +1.41421356j  2.44948974+0.j\n",
       "   0.        +0.j          0.        +0.j          0.        +0.j\n",
       "   0.        +0.j        ]\n",
       " [ 0.        +0.j          0.        +0.j          0.        +0.j\n",
       "   0.        +1.j          0.        +0.j          0.        +0.j\n",
       "   0.        -1.73205081j -2.        -2.j          0.        +0.j\n",
       "   0.        +0.j          0.        +0.j          0.        +1.41421356j\n",
       "   0.        +0.j          0.        +0.j          0.        +0.j\n",
       "   0.        +0.j        ]\n",
       " [ 0.        +0.j          0.        +0.j          0.        +0.j\n",
       "   0.        +0.j          0.        +1.41421356j  0.        +0.j\n",
       "   0.        +0.j          0.        +0.j         -1.        +2.j\n",
       "   0.        -1.j          0.        +0.j          0.        +0.j\n",
       "   0.        +1.73205081j  1.73205081+0.j          0.        +0.j\n",
       "   0.        +0.j        ]\n",
       " [ 0.        +0.j          0.        +0.j          0.        +0.j\n",
       "   0.        +0.j          0.        +0.j          0.        +1.41421356j\n",
       "   0.        +0.j          0.        +0.j          0.        -1.j\n",
       "  -1.5       +1.j          0.        -1.41421356j  0.        +0.j\n",
       "   0.        +0.j          0.        +1.73205081j  2.44948974+0.j\n",
       "   0.        +0.j        ]\n",
       " [ 0.        +0.j          0.        +0.j          0.        +0.j\n",
       "   0.        +0.j          0.        +0.j          0.        +0.j\n",
       "   0.        +1.41421356j  0.        +0.j          0.        +0.j\n",
       "   0.        -1.41421356j -2.        +0.j          0.        -1.73205081j\n",
       "   0.        +0.j          0.        +0.j          0.        +1.73205081j\n",
       "   3.        +0.j        ]\n",
       " [ 0.        +0.j          0.        +0.j          0.        +0.j\n",
       "   0.        +0.j          0.        +0.j          0.        +0.j\n",
       "   0.        +0.j          0.        +1.41421356j  0.        +0.j\n",
       "   0.        +0.j          0.        -1.73205081j -2.5       -1.j\n",
       "   0.        +0.j          0.        +0.j          0.        +0.j\n",
       "   0.        +1.73205081j]\n",
       " [ 0.        +0.j          0.        +0.j          0.        +0.j\n",
       "   0.        +0.j          0.        +0.j          0.        +0.j\n",
       "   0.        +0.j          0.        +0.j          0.        +1.73205081j\n",
       "   0.        +0.j          0.        +0.j          0.        +0.j\n",
       "  -1.5       +3.j          0.        -1.j          0.        +0.j\n",
       "   0.        +0.j        ]\n",
       " [ 0.        +0.j          0.        +0.j          0.        +0.j\n",
       "   0.        +0.j          0.        +0.j          0.        +0.j\n",
       "   0.        +0.j          0.        +0.j          0.        +0.j\n",
       "   0.        +1.73205081j  0.        +0.j          0.        +0.j\n",
       "   0.        -1.j         -2.        +2.j          0.        -1.41421356j\n",
       "   0.        +0.j        ]\n",
       " [ 0.        +0.j          0.        +0.j          0.        +0.j\n",
       "   0.        +0.j          0.        +0.j          0.        +0.j\n",
       "   0.        +0.j          0.        +0.j          0.        +0.j\n",
       "   0.        +0.j          0.        +1.73205081j  0.        +0.j\n",
       "   0.        +0.j          0.        -1.41421356j -2.5       +1.j\n",
       "   0.        -1.73205081j]\n",
       " [ 0.        +0.j          0.        +0.j          0.        +0.j\n",
       "   0.        +0.j          0.        +0.j          0.        +0.j\n",
       "   0.        +0.j          0.        +0.j          0.        +0.j\n",
       "   0.        +0.j          0.        +0.j          0.        +1.73205081j\n",
       "   0.        +0.j          0.        +0.j          0.        -1.73205081j\n",
       "  -3.        +0.j        ]]"
      ]
     },
     "execution_count": 29,
     "metadata": {},
     "output_type": "execute_result"
    }
   ],
   "source": [
    "liouv = liouvillian(array_QobjEvo, c_ops=[cte_QobjEvo])\n",
    "liouv(0)"
   ]
  }
 ],
 "metadata": {
  "kernelspec": {
   "display_name": "Python 3",
   "language": "python",
   "name": "python3"
  },
  "language_info": {
   "codemirror_mode": {
    "name": "ipython",
    "version": 3
   },
   "file_extension": ".py",
   "mimetype": "text/x-python",
   "name": "python",
   "nbconvert_exporter": "python",
   "pygments_lexer": "ipython3",
   "version": "3.7.0"
  }
 },
 "nbformat": 4,
 "nbformat_minor": 2
}
